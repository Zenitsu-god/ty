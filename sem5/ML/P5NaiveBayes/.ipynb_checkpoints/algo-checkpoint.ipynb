{
 "cells": [
  {
   "cell_type": "markdown",
   "metadata": {},
   "source": [
    "# Naive bayesian classifier"
   ]
  },
  {
   "cell_type": "code",
   "execution_count": 1,
   "metadata": {},
   "outputs": [],
   "source": [
    "import pandas as pd\n",
    "import numpy as np\n",
    "import math\n",
    "from sklearn.model_selection import train_test_split\n",
    "from sklearn.metrics import accuracy_score\n",
    "from sklearn.metrics import confusion_matrix"
   ]
  },
  {
   "cell_type": "code",
   "execution_count": 2,
   "metadata": {},
   "outputs": [
    {
     "data": {
      "text/html": [
       "<div>\n",
       "<style scoped>\n",
       "    .dataframe tbody tr th:only-of-type {\n",
       "        vertical-align: middle;\n",
       "    }\n",
       "\n",
       "    .dataframe tbody tr th {\n",
       "        vertical-align: top;\n",
       "    }\n",
       "\n",
       "    .dataframe thead th {\n",
       "        text-align: right;\n",
       "    }\n",
       "</style>\n",
       "<table border=\"1\" class=\"dataframe\">\n",
       "  <thead>\n",
       "    <tr style=\"text-align: right;\">\n",
       "      <th></th>\n",
       "      <th>school</th>\n",
       "      <th>sex</th>\n",
       "      <th>age</th>\n",
       "      <th>address</th>\n",
       "      <th>famsize</th>\n",
       "      <th>Pstatus</th>\n",
       "      <th>Medu</th>\n",
       "      <th>Fedu</th>\n",
       "      <th>traveltime</th>\n",
       "      <th>studytime</th>\n",
       "      <th>...</th>\n",
       "      <th>freetime</th>\n",
       "      <th>goout</th>\n",
       "      <th>Dalc</th>\n",
       "      <th>Walc</th>\n",
       "      <th>health</th>\n",
       "      <th>absences</th>\n",
       "      <th>G1</th>\n",
       "      <th>G2</th>\n",
       "      <th>G3</th>\n",
       "      <th>pass</th>\n",
       "    </tr>\n",
       "  </thead>\n",
       "  <tbody>\n",
       "    <tr>\n",
       "      <th>0</th>\n",
       "      <td>1</td>\n",
       "      <td>1</td>\n",
       "      <td>18</td>\n",
       "      <td>1</td>\n",
       "      <td>0</td>\n",
       "      <td>0</td>\n",
       "      <td>4</td>\n",
       "      <td>4</td>\n",
       "      <td>2</td>\n",
       "      <td>2</td>\n",
       "      <td>...</td>\n",
       "      <td>3</td>\n",
       "      <td>4</td>\n",
       "      <td>1</td>\n",
       "      <td>1</td>\n",
       "      <td>3</td>\n",
       "      <td>6</td>\n",
       "      <td>5</td>\n",
       "      <td>6</td>\n",
       "      <td>6</td>\n",
       "      <td>0</td>\n",
       "    </tr>\n",
       "    <tr>\n",
       "      <th>1</th>\n",
       "      <td>1</td>\n",
       "      <td>1</td>\n",
       "      <td>17</td>\n",
       "      <td>1</td>\n",
       "      <td>0</td>\n",
       "      <td>1</td>\n",
       "      <td>1</td>\n",
       "      <td>1</td>\n",
       "      <td>1</td>\n",
       "      <td>2</td>\n",
       "      <td>...</td>\n",
       "      <td>3</td>\n",
       "      <td>3</td>\n",
       "      <td>1</td>\n",
       "      <td>1</td>\n",
       "      <td>3</td>\n",
       "      <td>4</td>\n",
       "      <td>5</td>\n",
       "      <td>5</td>\n",
       "      <td>6</td>\n",
       "      <td>0</td>\n",
       "    </tr>\n",
       "    <tr>\n",
       "      <th>2</th>\n",
       "      <td>1</td>\n",
       "      <td>1</td>\n",
       "      <td>15</td>\n",
       "      <td>1</td>\n",
       "      <td>1</td>\n",
       "      <td>1</td>\n",
       "      <td>1</td>\n",
       "      <td>1</td>\n",
       "      <td>1</td>\n",
       "      <td>2</td>\n",
       "      <td>...</td>\n",
       "      <td>3</td>\n",
       "      <td>2</td>\n",
       "      <td>2</td>\n",
       "      <td>3</td>\n",
       "      <td>3</td>\n",
       "      <td>10</td>\n",
       "      <td>7</td>\n",
       "      <td>8</td>\n",
       "      <td>10</td>\n",
       "      <td>1</td>\n",
       "    </tr>\n",
       "    <tr>\n",
       "      <th>3</th>\n",
       "      <td>1</td>\n",
       "      <td>1</td>\n",
       "      <td>15</td>\n",
       "      <td>1</td>\n",
       "      <td>0</td>\n",
       "      <td>1</td>\n",
       "      <td>4</td>\n",
       "      <td>2</td>\n",
       "      <td>1</td>\n",
       "      <td>3</td>\n",
       "      <td>...</td>\n",
       "      <td>2</td>\n",
       "      <td>2</td>\n",
       "      <td>1</td>\n",
       "      <td>1</td>\n",
       "      <td>5</td>\n",
       "      <td>2</td>\n",
       "      <td>15</td>\n",
       "      <td>14</td>\n",
       "      <td>15</td>\n",
       "      <td>1</td>\n",
       "    </tr>\n",
       "    <tr>\n",
       "      <th>4</th>\n",
       "      <td>1</td>\n",
       "      <td>1</td>\n",
       "      <td>16</td>\n",
       "      <td>1</td>\n",
       "      <td>0</td>\n",
       "      <td>1</td>\n",
       "      <td>3</td>\n",
       "      <td>3</td>\n",
       "      <td>1</td>\n",
       "      <td>2</td>\n",
       "      <td>...</td>\n",
       "      <td>3</td>\n",
       "      <td>2</td>\n",
       "      <td>1</td>\n",
       "      <td>2</td>\n",
       "      <td>5</td>\n",
       "      <td>4</td>\n",
       "      <td>6</td>\n",
       "      <td>10</td>\n",
       "      <td>10</td>\n",
       "      <td>1</td>\n",
       "    </tr>\n",
       "  </tbody>\n",
       "</table>\n",
       "<p>5 rows × 30 columns</p>\n",
       "</div>"
      ],
      "text/plain": [
       "   school  sex  age  address  famsize  Pstatus  Medu  Fedu  traveltime  \\\n",
       "0       1    1   18        1        0        0     4     4           2   \n",
       "1       1    1   17        1        0        1     1     1           1   \n",
       "2       1    1   15        1        1        1     1     1           1   \n",
       "3       1    1   15        1        0        1     4     2           1   \n",
       "4       1    1   16        1        0        1     3     3           1   \n",
       "\n",
       "   studytime  ...  freetime  goout  Dalc  Walc  health  absences  G1  G2  G3  \\\n",
       "0          2  ...         3      4     1     1       3         6   5   6   6   \n",
       "1          2  ...         3      3     1     1       3         4   5   5   6   \n",
       "2          2  ...         3      2     2     3       3        10   7   8  10   \n",
       "3          3  ...         2      2     1     1       5         2  15  14  15   \n",
       "4          2  ...         3      2     1     2       5         4   6  10  10   \n",
       "\n",
       "   pass  \n",
       "0     0  \n",
       "1     0  \n",
       "2     1  \n",
       "3     1  \n",
       "4     1  \n",
       "\n",
       "[5 rows x 30 columns]"
      ]
     },
     "execution_count": 2,
     "metadata": {},
     "output_type": "execute_result"
    }
   ],
   "source": [
    "data=pd.read_csv(\"mark_evaluation.csv\")\n",
    "data.head(5)"
   ]
  },
  {
   "cell_type": "code",
   "execution_count": 3,
   "metadata": {},
   "outputs": [
    {
     "data": {
      "text/plain": [
       "school        0\n",
       "sex           0\n",
       "age           0\n",
       "address       0\n",
       "famsize       0\n",
       "Pstatus       0\n",
       "Medu          0\n",
       "Fedu          0\n",
       "traveltime    0\n",
       "studytime     0\n",
       "failures      0\n",
       "schoolsup     0\n",
       "famsup        0\n",
       "paid          0\n",
       "activities    0\n",
       "nursery       0\n",
       "higher        0\n",
       "internet      0\n",
       "romantic      0\n",
       "famrel        0\n",
       "freetime      0\n",
       "goout         0\n",
       "Dalc          0\n",
       "Walc          0\n",
       "health        0\n",
       "absences      0\n",
       "G1            0\n",
       "G2            0\n",
       "G3            0\n",
       "pass          0\n",
       "dtype: int64"
      ]
     },
     "execution_count": 3,
     "metadata": {},
     "output_type": "execute_result"
    }
   ],
   "source": [
    "data.isna().sum()"
   ]
  },
  {
   "cell_type": "code",
   "execution_count": 4,
   "metadata": {},
   "outputs": [],
   "source": [
    "x=data.iloc[:,0:-1]\n",
    "y=data.iloc[:,-1]"
   ]
  },
  {
   "cell_type": "code",
   "execution_count": 5,
   "metadata": {},
   "outputs": [],
   "source": [
    "x_train,x_test,y_train,y_test=train_test_split(x,y,test_size=0.2,random_state=0)"
   ]
  },
  {
   "cell_type": "code",
   "execution_count": 6,
   "metadata": {},
   "outputs": [],
   "source": [
    "x_train=pd.DataFrame(x_train)\n",
    "x_test=pd.DataFrame(x_test)"
   ]
  },
  {
   "cell_type": "code",
   "execution_count": 9,
   "metadata": {},
   "outputs": [],
   "source": [
    "def calprobability(x_train,y_train):\n",
    "    probability={}\n",
    "    x_train[\"result\"]=y_train\n",
    "    column=x_train.columns\n",
    "    x_positive=x_train[x_train[\"result\"]==1]\n",
    "\n",
    "    for i in range(len(column)):\n",
    "        element=pd.unique(x_train.iloc[:,i])\n",
    "        probability[column[i]]={}\n",
    "        total_val=dict(pd.value_counts(x_train.iloc[:,i]))\n",
    "        positive_val=dict(pd.value_counts(x_positive.iloc[:,i]))\n",
    "        for j,k in enumerate(total_val):\n",
    "            if k in positive_val.keys():\n",
    "                probability[column[i]][k]=positive_val[k]/total_val[k]\n",
    "            else:\n",
    "                probability[column[i]][k]=0\n",
    "    return probability"
   ]
  },
  {
   "cell_type": "code",
   "execution_count": 10,
   "metadata": {},
   "outputs": [],
   "source": [
    "baysianprobability=calprobability(x_train,y_train)"
   ]
  },
  {
   "cell_type": "code",
   "execution_count": 17,
   "metadata": {},
   "outputs": [],
   "source": [
    "x_test=x_test.reset_index(drop=True)"
   ]
  },
  {
   "cell_type": "code",
   "execution_count": 37,
   "metadata": {},
   "outputs": [],
   "source": [
    "def testmodel(x_test,baysianprobability):\n",
    "    y_pred=[]\n",
    "    column=list(x_test.columns)\n",
    "    for i in range(len(x_test)):\n",
    "        current_ele=x_test.iloc[i]\n",
    "        positive_prob=1\n",
    "        negative_prob=1\n",
    "        for j in range(len(column)):\n",
    "            if current_ele[j] in baysianprobability[column[j]].keys():\n",
    "                individual_prob=baysianprobability[column[j]][current_ele[j]]\n",
    "                positive_prob*=individual_prob\n",
    "                negative_prob*=(1-individual_prob)\n",
    "        if(positive_prob>negative_prob):\n",
    "            y_pred.append(1)\n",
    "        else:\n",
    "            y_pred.append(0)\n",
    "    return y_pred"
   ]
  },
  {
   "cell_type": "code",
   "execution_count": 38,
   "metadata": {},
   "outputs": [],
   "source": [
    "y_pred=testmodel(x_test,baysianprobability)"
   ]
  },
  {
   "cell_type": "code",
   "execution_count": 39,
   "metadata": {},
   "outputs": [
    {
     "data": {
      "text/plain": [
       "array([[20,  9],\n",
       "       [ 2, 48]], dtype=int64)"
      ]
     },
     "execution_count": 39,
     "metadata": {},
     "output_type": "execute_result"
    }
   ],
   "source": [
    "confusion_matrix(y_test,y_pred)"
   ]
  },
  {
   "cell_type": "code",
   "execution_count": 46,
   "metadata": {},
   "outputs": [],
   "source": [
    "accuracy=accuracy_score(y_test,y_pred)"
   ]
  },
  {
   "cell_type": "code",
   "execution_count": 2,
   "metadata": {},
   "outputs": [
    {
     "ename": "NameError",
     "evalue": "name 'accuracy' is not defined",
     "output_type": "error",
     "traceback": [
      "\u001b[1;31m---------------------------------------------------------------------------\u001b[0m",
      "\u001b[1;31mNameError\u001b[0m                                 Traceback (most recent call last)",
      "\u001b[1;32m~\\AppData\\Local\\Temp/ipykernel_19860/3133724725.py\u001b[0m in \u001b[0;36m<module>\u001b[1;34m\u001b[0m\n\u001b[1;32m----> 1\u001b[1;33m \u001b[0mprint\u001b[0m\u001b[1;33m(\u001b[0m\u001b[1;34m\"Accurecy of our model :\"\u001b[0m\u001b[1;33m,\u001b[0m\u001b[0maccuracy\u001b[0m\u001b[1;33m*\u001b[0m\u001b[1;36m100\u001b[0m\u001b[1;33m,\u001b[0m\u001b[1;34m\"%\"\u001b[0m\u001b[1;33m)\u001b[0m\u001b[1;33m\u001b[0m\u001b[1;33m\u001b[0m\u001b[0m\n\u001b[0m",
      "\u001b[1;31mNameError\u001b[0m: name 'accuracy' is not defined"
     ]
    }
   ],
   "source": [
    "print(\"Accurecy of our model :\",accuracy*100,\"%\")"
   ]
  },
  {
   "cell_type": "code",
   "execution_count": null,
   "metadata": {},
   "outputs": [],
   "source": [
    "\n",
    " The code reads in a CSV file and creates two dataframes, x_train and x_test.\n",
    " The first line of the code is where we import pandas as pd.\n",
    " This allows us to use the read_csv function on our dataframe which will return all of the columns from our input file into a new pandas DataFrame object.\n",
    " The next line of code is where we create an empty list called y that will hold all of the rows from our input file.\n",
    " We then iterate over each row in order to create a new list with only one element for each row, this time named y_.\n",
    " We then split up these lists by using train_test_split which takes three arguments: test size (0.2), random state (0) and what type of splits should be made (in this case, it's set to \"classification\").\n",
    " It returns four values: x-train, x-test, y-train and y-test.\n",
    " The code attempts to take a data set and split it into two parts.\n",
    " The first part will be used for training and the second part will be used for testing.\n",
    " The code then takes the training set and creates a new DataFrame called x_train which contains the input variables of x with their corresponding values in column 0, 1, 2, 3, 4.\n",
    " It also creates a new DataFrame called x_test which contains the input variables of x with their corresponding values in column 0, 1, 2, 3, 4 but with an additional test variable that is not present in x_train (i.e., test_size=0.2).\n",
    " The code is trying to find the probability of a person having a particular result.\n",
    " It starts by creating an empty dictionary called \"probability\".\n",
    " Then it iterates through each column in the dataframe and creates an empty dictionary for that column, which is then filled with values from the value_counts() function.\n",
    " The next step is to create two dictionaries: one containing all positive results and another containing all negative results.\n",
    " The code iterates through each row in x_train, looking for any rows where y_train == 1 (the desired outcome).\n",
    " For every such row, it looks up the index of that row in x_positive and uses dict(pd.value_counts()) to get the number of times that outcome occurred within those columns.\n",
    " This gives us total occurrences of this outcome across all columns as well as how many times it occurred within each individual column.\n",
    " The code will calculate the probability of a specific outcome for a given input.\n",
    " The code calculates the probability of an outcome where x_train[\"result\"] is equal to 1, and then iterates through each column in x_train.columns and calculates the probabilities of that outcome occurring in each column.\n",
    " The code starts by creating a list of all the columns in x_test.\n",
    " This is done so that it can be used to create an array of probabilities for each column.\n",
    " The code then loops through each row in x_test and creates an array of probabilities for each column, which are stored as probability[column][k] where k is the index of the particular row.\n",
    " The next line initializes baysianprobability with a random number between 0 and 1, which will be used later on to calculate the probability value for any given cell in y_train.\n",
    " The next line calculates the total number of values in y_train using len(x_train).\n",
    " Next, it sets up an empty list called y_pred that will store predictions from this model based on data from x_test.\n",
    " It also sets up a list called column that stores all columns from x-test so they can be iterated over one at a time during training (i.e., iteration over rows).\n",
    " Then comes another loop through every row in x-test and calculates the probability value for each column based on whether or not its corresponding element is positive or negative according to baysianprobability's random number generator\n",
    " The code is a function that takes in two arguments, x_test and baysianprobability.\n",
    " The x_test argument is the dataset of test data to be used for training.\n",
    " The baysianprobability argument is the probability distribution which was created by the code above.\n",
    " The function will iterate through each column of x_test and create an array called y_pred.\n",
    " This array will have one element for each row of x_test.\n",
    " Each row will have a list of all possible values for that column, with the value 0 being omitted from this list.\n",
    " The code starts by creating a list of all the columns in the dataframe.\n",
    " Then, it creates an array called baysianprobability that contains all the probabilities for each column.\n",
    " Next, it loops through each row and calculates individual probability based on Bayes' theorem.\n",
    " The loop then checks if there is a positive or negative probability for this particular row and adds 1 to y_pred if there is a positive probability or 0 otherwise.\n",
    " Finally, it returns y_pred as the predicted values for x_test\n",
    " The code is used to generate a confusion matrix for the given data.\n",
    " The accuracy of the model is calculated by calculating the accuracy score for each row and column of the confusion matrix.\n"
   ]
  }
 ],
 "metadata": {
  "kernelspec": {
   "display_name": "Python 3 (ipykernel)",
   "language": "python",
   "name": "python3"
  },
  "language_info": {
   "codemirror_mode": {
    "name": "ipython",
    "version": 3
   },
   "file_extension": ".py",
   "mimetype": "text/x-python",
   "name": "python",
   "nbconvert_exporter": "python",
   "pygments_lexer": "ipython3",
   "version": "3.9.6"
  },
  "vscode": {
   "interpreter": {
    "hash": "8bf0d51478355d2251941b3b98616086516a0eddd7c72ee47a3371765770709a"
   }
  }
 },
 "nbformat": 4,
 "nbformat_minor": 2
}
