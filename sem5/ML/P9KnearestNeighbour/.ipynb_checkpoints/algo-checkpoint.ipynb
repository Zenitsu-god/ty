{
 "cells": [
  {
   "cell_type": "markdown",
   "metadata": {},
   "source": [
    "### K-nearest Neighbors"
   ]
  },
  {
   "cell_type": "markdown",
   "metadata": {},
   "source": [
    "This is supervised machine learning classifier.It is very simple and easy algorithmn with better accurecy.Accoring to this algorithm we consider the k nearest neighbors that is k dataset from testing data which have minimum eculidian distance from given datapoint from testdataset and then assign that label to testcase which is in majority among the it's neighbors.Accoring to algorithm your are surrounded by neighbors then you are nothing but one of them."
   ]
  },
  {
   "cell_type": "markdown",
   "metadata": {},
   "source": [
    "For accurate prediction k%n!=0 where n is number of classes or labels in dataset."
   ]
  },
  {
   "cell_type": "markdown",
   "metadata": {},
   "source": [
    "This is very simple and easy algorithm but it have some drawbacks that it take much more time to labeling data.For each datapoint it calculate distace.It does not have any predefined hypothesis.Thus it also known as lazy algorithm."
   ]
  },
  {
   "cell_type": "code",
   "execution_count": 2,
   "metadata": {},
   "outputs": [],
   "source": [
    "import pandas as pd,numpy as np,math\n",
    "from sklearn.model_selection import train_test_split\n",
    "from sklearn.neighbors import KNeighborsClassifier\n",
    "from sklearn.metrics import confusion_matrix,accuracy_score"
   ]
  },
  {
   "cell_type": "code",
   "execution_count": 3,
   "metadata": {},
   "outputs": [],
   "source": [
    "data=pd.read_csv(\"heart.csv\")"
   ]
  },
  {
   "cell_type": "code",
   "execution_count": 4,
   "metadata": {},
   "outputs": [],
   "source": [
    "x_train,x_test=train_test_split(data,test_size=0.2)"
   ]
  },
  {
   "cell_type": "code",
   "execution_count": 5,
   "metadata": {},
   "outputs": [],
   "source": [
    "x_train=pd.DataFrame(x_train)\n",
    "x_test=pd.DataFrame(x_test)"
   ]
  },
  {
   "cell_type": "code",
   "execution_count": 6,
   "metadata": {},
   "outputs": [
    {
     "data": {
      "text/plain": [
       "1    109\n",
       "0     96\n",
       "Name: target, dtype: int64"
      ]
     },
     "execution_count": 6,
     "metadata": {},
     "output_type": "execute_result"
    }
   ],
   "source": [
    "y_test=x_test.iloc[:,-1]\n",
    "pd.value_counts(y_test)"
   ]
  },
  {
   "cell_type": "code",
   "execution_count": 7,
   "metadata": {},
   "outputs": [],
   "source": [
    "x_train=x_train.reset_index(drop=True)\n",
    "x_test=x_test.drop(\"target\",axis=1)\n",
    "x_test=x_test.reset_index(drop=True)"
   ]
  },
  {
   "cell_type": "code",
   "execution_count": 8,
   "metadata": {},
   "outputs": [],
   "source": [
    "def KnearestNeighbour(x_train,x_test,k):\n",
    "    y_pred=[]\n",
    "    column=x_test.columns\n",
    "    for i in range(len(x_test)):\n",
    "        positve_dist=[]\n",
    "        negative_dist=[]\n",
    "        testdata=x_test.iloc[i]\n",
    "        for j in range(len(x_train)):\n",
    "            distance=0\n",
    "            currentele=x_train.iloc[j]\n",
    "            for l in range(len(column)):\n",
    "                distance+=(currentele[l]-testdata[l])**2\n",
    "            distance=math.sqrt(distance)\n",
    "            if(currentele[-1]==0):\n",
    "                negative_dist.append(distance)\n",
    "            else:\n",
    "                positve_dist.append(distance)\n",
    "        positve_dist.sort()\n",
    "        negative_dist.sort()\n",
    "        x=0\n",
    "        y=0\n",
    "        for l in range(k):\n",
    "            if(positve_dist[x]>negative_dist[y]):\n",
    "                y+=1\n",
    "            else:\n",
    "                x+=1\n",
    "        if(x>y):\n",
    "            y_pred.append(1)\n",
    "        else:\n",
    "            y_pred.append(0)\n",
    "    return y_pred"
   ]
  },
  {
   "cell_type": "code",
   "execution_count": 9,
   "metadata": {},
   "outputs": [],
   "source": [
    "y_pred=KnearestNeighbour(x_train,x_test,3)"
   ]
  },
  {
   "cell_type": "code",
   "execution_count": 10,
   "metadata": {},
   "outputs": [
    {
     "data": {
      "text/plain": [
       "array([[78, 18],\n",
       "       [21, 88]], dtype=int64)"
      ]
     },
     "execution_count": 10,
     "metadata": {},
     "output_type": "execute_result"
    }
   ],
   "source": [
    "confusion_matrix(y_test,y_pred)"
   ]
  },
  {
   "cell_type": "code",
   "execution_count": 11,
   "metadata": {},
   "outputs": [
    {
     "data": {
      "text/plain": [
       "0.8097560975609757"
      ]
     },
     "execution_count": 11,
     "metadata": {},
     "output_type": "execute_result"
    }
   ],
   "source": [
    "accuracy_score(y_test,y_pred)"
   ]
  },
  {
   "cell_type": "markdown",
   "metadata": {},
   "source": [
    "### Model using K-nearestNeighbors classifier"
   ]
  },
  {
   "cell_type": "code",
   "execution_count": 12,
   "metadata": {},
   "outputs": [],
   "source": [
    "x=data.iloc[:,:-1]\n",
    "y=data.iloc[:,-1]\n",
    "x_train,x_test,y_train,y_test=train_test_split(x,y,test_size=0.2)"
   ]
  },
  {
   "cell_type": "code",
   "execution_count": 13,
   "metadata": {},
   "outputs": [
    {
     "data": {
      "text/plain": [
       "KNeighborsClassifier(n_neighbors=3)"
      ]
     },
     "execution_count": 13,
     "metadata": {},
     "output_type": "execute_result"
    }
   ],
   "source": [
    "knn=KNeighborsClassifier(n_neighbors=3)\n",
    "knn.fit(x_train,y_train)"
   ]
  },
  {
   "cell_type": "code",
   "execution_count": 14,
   "metadata": {},
   "outputs": [],
   "source": [
    "y_pred=knn.predict(x_test)"
   ]
  },
  {
   "cell_type": "code",
   "execution_count": 15,
   "metadata": {},
   "outputs": [
    {
     "data": {
      "text/plain": [
       "array([[97,  5],\n",
       "       [10, 93]], dtype=int64)"
      ]
     },
     "execution_count": 15,
     "metadata": {},
     "output_type": "execute_result"
    }
   ],
   "source": [
    "confusion_matrix(y_test,y_pred)"
   ]
  },
  {
   "cell_type": "code",
   "execution_count": 16,
   "metadata": {},
   "outputs": [
    {
     "data": {
      "text/plain": [
       "0.926829268292683"
      ]
     },
     "execution_count": 16,
     "metadata": {},
     "output_type": "execute_result"
    }
   ],
   "source": [
    "accuracy_score(y_test,y_pred)"
   ]
  },
  {
   "cell_type": "code",
   "execution_count": null,
   "metadata": {},
   "outputs": [],
   "source": [
    " The code starts by importing the libraries that are needed.\n",
    " It then creates a dataframe with two columns, x and y.\n",
    " The first column is called x and contains the heart rate values of each person in the training set while the second column is called y and contains their target heart rate value.\n",
    " Next, it counts how many times each value appears in both columns to get an idea of how much overlap there is between them.\n",
    " Next, it uses train_test_split to split up the data into a training set (x) and test set (y).\n",
    " Then it resets all indexes on both sets so they can be used for different purposes later on.\n",
    " Finally, it prints out some statistics about what percentage of people have which target heart rates using pd's value_counts function.\n",
    " The code is a simple example of how to use the KNeighborsClassifier class in scikit-learn.\n",
    " The code starts by importing the necessary libraries.\n",
    " Next, it creates a new dataframe with train and test splits of 0.2 each.\n",
    " It then sets up x_train and x_test so that they are both pandas dataframes with their indexes reset to zero and drop one column called target.\n",
    " Lastly, it prints out the confusion matrix for both dataframes using pd's value_counts function before printing out the results from the test set only which is now just x_test\n"
   ]
  }
 ],
 "metadata": {
  "kernelspec": {
   "display_name": "Python 3 (ipykernel)",
   "language": "python",
   "name": "python3"
  },
  "language_info": {
   "codemirror_mode": {
    "name": "ipython",
    "version": 3
   },
   "file_extension": ".py",
   "mimetype": "text/x-python",
   "name": "python",
   "nbconvert_exporter": "python",
   "pygments_lexer": "ipython3",
   "version": "3.9.6"
  },
  "vscode": {
   "interpreter": {
    "hash": "8bf0d51478355d2251941b3b98616086516a0eddd7c72ee47a3371765770709a"
   }
  }
 },
 "nbformat": 4,
 "nbformat_minor": 2
}
