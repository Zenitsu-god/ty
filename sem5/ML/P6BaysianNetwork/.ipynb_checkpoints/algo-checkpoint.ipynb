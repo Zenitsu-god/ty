{
 "cells": [
  {
   "cell_type": "markdown",
   "metadata": {},
   "source": [
    "### Naive baysian classifier for document classification"
   ]
  },
  {
   "cell_type": "markdown",
   "metadata": {},
   "source": [
    "Given data is about enviroment and international defence news where first 15 article are about defence news and next 15 article are about enviroment and climete change.Then next 10 article are for testing where first 5 article are or defence news and next 5 article are about enviromental news"
   ]
  },
  {
   "cell_type": "code",
   "execution_count": 94,
   "metadata": {},
   "outputs": [],
   "source": [
    "import pandas as pd\n",
    "import numpy as np\n",
    "import math\n",
    "from sklearn.feature_extraction.text import CountVectorizer\n",
    "from sklearn import metrics"
   ]
  },
  {
   "cell_type": "code",
   "execution_count": 95,
   "metadata": {},
   "outputs": [],
   "source": [
    "data=pd.read_table(\"data.text\")"
   ]
  },
  {
   "cell_type": "code",
   "execution_count": 96,
   "metadata": {},
   "outputs": [],
   "source": [
    "defence=data.iloc[:15,]"
   ]
  },
  {
   "cell_type": "code",
   "execution_count": 97,
   "metadata": {},
   "outputs": [],
   "source": [
    "environment=data.iloc[15:30]\n",
    "environment=environment.reset_index(drop=True)"
   ]
  },
  {
   "cell_type": "code",
   "execution_count": 98,
   "metadata": {},
   "outputs": [],
   "source": [
    "environment_articles=list(environment[\"News Articals\"])\n",
    "defence_article=list(defence[\"News Articals\"])"
   ]
  },
  {
   "cell_type": "code",
   "execution_count": 99,
   "metadata": {},
   "outputs": [],
   "source": [
    "vectorizer=CountVectorizer()\n",
    "vectorizer1=CountVectorizer()\n",
    "x=vectorizer.fit_transform(defence_article)\n",
    "y=vectorizer1.fit_transform(environment_articles)"
   ]
  },
  {
   "cell_type": "code",
   "execution_count": 100,
   "metadata": {},
   "outputs": [],
   "source": [
    "wordlist=vectorizer.get_feature_names_out()\n",
    "wordlist1=vectorizer1.get_feature_names_out()"
   ]
  },
  {
   "cell_type": "code",
   "execution_count": 101,
   "metadata": {},
   "outputs": [],
   "source": [
    "word_probability={}\n",
    "total_word=0\n",
    "for i in range(len(wordlist)):\n",
    "    count=0\n",
    "    for j in range(15):\n",
    "        count+=x.toarray()[j][i]\n",
    "    word_probability[wordlist[i]]=count\n",
    "    total_word+=count"
   ]
  },
  {
   "cell_type": "code",
   "execution_count": 103,
   "metadata": {},
   "outputs": [],
   "source": [
    "word_probability1={}\n",
    "total_word1=0\n",
    "for i in range(len(wordlist1)):\n",
    "    count=0\n",
    "    for j in range(15):\n",
    "        count+=y.toarray()[j][i]\n",
    "    word_probability1[wordlist1[i]]=count\n",
    "    total_word1+=count"
   ]
  },
  {
   "cell_type": "code",
   "execution_count": 109,
   "metadata": {},
   "outputs": [
    {
     "data": {
      "text/html": [
       "<div>\n",
       "<style scoped>\n",
       "    .dataframe tbody tr th:only-of-type {\n",
       "        vertical-align: middle;\n",
       "    }\n",
       "\n",
       "    .dataframe tbody tr th {\n",
       "        vertical-align: top;\n",
       "    }\n",
       "\n",
       "    .dataframe thead th {\n",
       "        text-align: right;\n",
       "    }\n",
       "</style>\n",
       "<table border=\"1\" class=\"dataframe\">\n",
       "  <thead>\n",
       "    <tr style=\"text-align: right;\">\n",
       "      <th></th>\n",
       "      <th>News Articals</th>\n",
       "    </tr>\n",
       "  </thead>\n",
       "  <tbody>\n",
       "    <tr>\n",
       "      <th>0</th>\n",
       "      <td>India and Japan conduct maritime partnership e...</td>\n",
       "    </tr>\n",
       "    <tr>\n",
       "      <th>1</th>\n",
       "      <td>Creation of standalone air defence command may...</td>\n",
       "    </tr>\n",
       "    <tr>\n",
       "      <th>2</th>\n",
       "      <td>Rajnath Singh launches 75 AI-powered defence p...</td>\n",
       "    </tr>\n",
       "    <tr>\n",
       "      <th>3</th>\n",
       "      <td>NO THIRD COUNTRY HAS VETO IN INDIA-U.S. RELATI...</td>\n",
       "    </tr>\n",
       "    <tr>\n",
       "      <th>4</th>\n",
       "      <td>OUR DEFENCE SHIPYARD PLAYS A PIVOTAL ROLE IN S...</td>\n",
       "    </tr>\n",
       "    <tr>\n",
       "      <th>5</th>\n",
       "      <td>What is eco-anxiety? The psychological conditi...</td>\n",
       "    </tr>\n",
       "    <tr>\n",
       "      <th>6</th>\n",
       "      <td>In war-torn states hurt by climate, scant hope...</td>\n",
       "    </tr>\n",
       "    <tr>\n",
       "      <th>7</th>\n",
       "      <td>France's summer heatwaves likely to have cause...</td>\n",
       "    </tr>\n",
       "    <tr>\n",
       "      <th>8</th>\n",
       "      <td>Countries need to walk the talk on loss and da...</td>\n",
       "    </tr>\n",
       "    <tr>\n",
       "      <th>9</th>\n",
       "      <td>This is India's action plan to fight emissions...</td>\n",
       "    </tr>\n",
       "  </tbody>\n",
       "</table>\n",
       "</div>"
      ],
      "text/plain": [
       "                                       News Articals\n",
       "0  India and Japan conduct maritime partnership e...\n",
       "1  Creation of standalone air defence command may...\n",
       "2  Rajnath Singh launches 75 AI-powered defence p...\n",
       "3  NO THIRD COUNTRY HAS VETO IN INDIA-U.S. RELATI...\n",
       "4  OUR DEFENCE SHIPYARD PLAYS A PIVOTAL ROLE IN S...\n",
       "5  What is eco-anxiety? The psychological conditi...\n",
       "6  In war-torn states hurt by climate, scant hope...\n",
       "7  France's summer heatwaves likely to have cause...\n",
       "8  Countries need to walk the talk on loss and da...\n",
       "9  This is India's action plan to fight emissions..."
      ]
     },
     "execution_count": 109,
     "metadata": {},
     "output_type": "execute_result"
    }
   ],
   "source": [
    "test_data=data.iloc[30:]\n",
    "test_data.reset_index(drop=True)"
   ]
  },
  {
   "cell_type": "code",
   "execution_count": 146,
   "metadata": {},
   "outputs": [],
   "source": [
    "y_test=[\"defence\",\"defence\",\"defence\",\"defence\",\"defence\",\"environment\",\"environment\",\"environment\",\"environment\",\"environment\"]"
   ]
  },
  {
   "cell_type": "code",
   "execution_count": 144,
   "metadata": {},
   "outputs": [],
   "source": [
    "def predict(test_data,word_probability,word_probability1,wordlist,wordlist1,total_word,total_word1):\n",
    "    y_pred=[]\n",
    "    for i in range(len(test_data)):\n",
    "        defence_prob=1\n",
    "        environment_prob=1\n",
    "        news=test_data.iloc[i,0]\n",
    "        wordarray=news.split(\" \")\n",
    "\n",
    "        for j in wordarray:\n",
    "            if j in [\"and\",\"or\",\"the\",\"a\",\"an\",\"for\",\"by\",\"is\",\"are\",\"must\",\"what\",\"where\"]:\n",
    "                continue\n",
    "            if j in wordlist:\n",
    "                defence_prob*=word_probability[j]\n",
    "            if j in wordlist1:\n",
    "                environment_prob*=word_probability1[j]\n",
    "        if(defence_prob>=environment_prob):\n",
    "            y_pred.append(\"defence\")\n",
    "        else:\n",
    "            y_pred.append(\"environment\")\n",
    "    return y_pred"
   ]
  },
  {
   "cell_type": "code",
   "execution_count": 145,
   "metadata": {},
   "outputs": [],
   "source": [
    "y_pred=predict(test_data,word_probability,word_probability1,wordlist,wordlist1,total_word,total_word1)\n"
   ]
  },
  {
   "cell_type": "code",
   "execution_count": 147,
   "metadata": {},
   "outputs": [
    {
     "data": {
      "text/plain": [
       "array([[5, 0],\n",
       "       [1, 4]], dtype=int64)"
      ]
     },
     "execution_count": 147,
     "metadata": {},
     "output_type": "execute_result"
    }
   ],
   "source": [
    "metrics.confusion_matrix(y_test,y_pred)"
   ]
  },
  {
   "cell_type": "code",
   "execution_count": 148,
   "metadata": {},
   "outputs": [
    {
     "data": {
      "text/plain": [
       "0.9"
      ]
     },
     "execution_count": 148,
     "metadata": {},
     "output_type": "execute_result"
    }
   ],
   "source": [
    "metrics.accuracy_score(y_test,y_pred)"
   ]
  }
 ],
 "metadata": {
  "kernelspec": {
   "display_name": "Python 3 (ipykernel)",
   "language": "python",
   "name": "python3"
  },
  "language_info": {
   "codemirror_mode": {
    "name": "ipython",
    "version": 3
   },
   "file_extension": ".py",
   "mimetype": "text/x-python",
   "name": "python",
   "nbconvert_exporter": "python",
   "pygments_lexer": "ipython3",
   "version": "3.9.6"
  },
  "vscode": {
   "interpreter": {
    "hash": "8bf0d51478355d2251941b3b98616086516a0eddd7c72ee47a3371765770709a"
   }
  }
 },
 "nbformat": 4,
 "nbformat_minor": 2
}
